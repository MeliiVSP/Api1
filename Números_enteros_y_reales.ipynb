{
  "nbformat": 4,
  "nbformat_minor": 0,
  "metadata": {
    "colab": {
      "provenance": [],
      "authorship_tag": "ABX9TyNJmHNX2IOE0esOj1bRcY4L",
      "include_colab_link": true
    },
    "kernelspec": {
      "name": "python3",
      "display_name": "Python 3"
    },
    "language_info": {
      "name": "python"
    }
  },
  "cells": [
    {
      "cell_type": "markdown",
      "metadata": {
        "id": "view-in-github",
        "colab_type": "text"
      },
      "source": [
        "<a href=\"https://colab.research.google.com/github/MeliiVSP/Api1/blob/master/N%C3%BAmeros_enteros_y_reales.ipynb\" target=\"_parent\"><img src=\"https://colab.research.google.com/assets/colab-badge.svg\" alt=\"Open In Colab\"/></a>"
      ]
    },
    {
      "cell_type": "code",
      "execution_count": null,
      "metadata": {
        "id": "mSeE8GdkfN8y"
      },
      "outputs": [],
      "source": [
        "num = int(input(\"Temperatua en °C\"))\n",
        "cels = (num-32)/1.8\n",
        "print(cels)"
      ]
    },
    {
      "cell_type": "code",
      "source": [
        "num1 = 10\n",
        "num2 = 5\n",
        "print(f\"Operaciones entre {num1} y {num2}\")\n",
        "sum = num1+num2\n",
        "print(sum)\n",
        "resta= num1 - num2\n",
        "print(resta)\n",
        "div = num1/num2\n",
        "print(div)\n",
        "mult= num1*num2\n",
        "print(mult)\n"
      ],
      "metadata": {
        "colab": {
          "base_uri": "https://localhost:8080/"
        },
        "id": "x2uHp8R1fsMK",
        "outputId": "c8302d6d-aed0-4a93-e61b-2ab052d886d8"
      },
      "execution_count": 3,
      "outputs": [
        {
          "output_type": "stream",
          "name": "stdout",
          "text": [
            "Operaciones entre 10 y 5\n",
            "15\n",
            "5\n",
            "2.0\n",
            "50\n"
          ]
        }
      ]
    },
    {
      "cell_type": "code",
      "source": [
        "base= 10\n",
        "altura= 5\n",
        "\n",
        "area_rect= base * altura\n",
        "print(area_rect)\n",
        "peri_rect= base+altura+base+altura\n",
        "print(peri_rect)"
      ],
      "metadata": {
        "colab": {
          "base_uri": "https://localhost:8080/"
        },
        "id": "JbKJtYVrkHZr",
        "outputId": "3bde9d73-edb0-4b10-be22-efdf6c5ca3bc"
      },
      "execution_count": 5,
      "outputs": [
        {
          "output_type": "stream",
          "name": "stdout",
          "text": [
            "50\n",
            "30\n"
          ]
        }
      ]
    },
    {
      "cell_type": "code",
      "source": [
        "print('Media de 3 numeros')\n",
        "x=int(input('''Numero 1 '''))\n",
        "y=int(input('''Numero 2 '''))\n",
        "z=int(input('''Numero 3 '''))\n",
        "M=(x+y+z)/3\n",
        "print('la media es ',M)"
      ],
      "metadata": {
        "colab": {
          "base_uri": "https://localhost:8080/"
        },
        "id": "8L9a4xdjkxBX",
        "outputId": "de8f58f6-745c-4676-f5b3-a389241055fd"
      },
      "execution_count": null,
      "outputs": [
        {
          "output_type": "stream",
          "name": "stdout",
          "text": [
            "Media de 3 numeros\n"
          ]
        }
      ]
    }
  ]
}